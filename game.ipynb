{
 "cells": [
  {
   "cell_type": "code",
   "execution_count": 2,
   "metadata": {},
   "outputs": [
    {
     "name": "stdout",
     "output_type": "stream",
     "text": [
      "Welcome to paper scissors rock game. As soon as the window pop up please caputre your move by pressing escape key \n",
      "Are you ready?(Yes/No) :: yes\n",
      "[[0. 1. 0.]]\n",
      "Draw \n",
      "Your Move:: paper and Computer Move::paper\n"
     ]
    }
   ],
   "source": [
    "import cv2 \n",
    "import time\n",
    "import random\n",
    "import tensorflow as tf \n",
    "from tensorflow import keras\n",
    "from keras.preprocessing import image\n",
    "import numpy as np\n",
    "\n",
    "\n",
    "moves =['rock','scissors','paper']\n",
    "users_move = 2\n",
    "\n",
    "cap = cv2.VideoCapture(0)\n",
    "print(\"Welcome to paper scissors rock game. As soon as the window pop up please caputre your move by pressing escape key \")\n",
    "ready = input(\"Are you ready?(Yes/No) :: \").lower()\n",
    "if(ready=='yes'):\n",
    "    #capture an image\n",
    "    while True:\n",
    "        ret,frame  = cap.read()\n",
    "        cv2.imshow('Game',frame)\n",
    "        k = cv2.waitKey(5) & 0xFF\n",
    "\n",
    "        if k == 27: # escape key\n",
    "            cv2.imwrite('users_move.png', frame)\n",
    "            time.sleep(2)\n",
    "            break\n",
    "    cap.release()\n",
    "    cv2.destroyAllWindows()\n",
    "    model = keras.models.load_model('rock_paper_scissors.h5')\n",
    "\n",
    "    img = image.load_img('users_move.png', target_size=(150, 150))\n",
    "    x = image.img_to_array(img)\n",
    "    x = np.expand_dims(x, axis=0)\n",
    "\n",
    "    # images = np.vstack([x])\n",
    "    classes = model.predict(x)\n",
    "    print(classes)\n",
    "    position = (np.where(classes==1))\n",
    "    if(position[0]==0):\n",
    "        users_move = 2\n",
    "    elif(position[0]==1):\n",
    "        users_move = 0\n",
    "    else:\n",
    "        users_move = 1\n",
    "    \n",
    "    #game logic\n",
    "    computer_move = random.randint(0,2)\n",
    "    if((computer_move==0 and users_move== 2) or (computer_move==2 and users_move==0)):\n",
    "        if(computer_move==2):\n",
    "            print(\"YOU LOOSE ! \\nYour Move:: {} and Computer Move::{}\".format(moves[users_move],moves[computer_move]))\n",
    "        else:\n",
    "             print(\"Congratiulation you won. \\nYour Move:: {} and Computer Move::{}\".format(moves[users_move],moves[computer_move]))\n",
    "    else:\n",
    "        if(computer_move<users_move):\n",
    "            print(\"YOU LOOSE ! \\nYour Move:: {} and Computer Move::{}\".format(moves[users_move],moves[computer_move]))\n",
    "        elif(computer_move == users_move):\n",
    "            print(\"Draw \\nYour Move:: {} and Computer Move::{}\".format(moves[users_move],moves[computer_move]))\n",
    "        else:\n",
    "            print(\"Congratiulation you won. \\nYour Move:: {} and Computer Move::{}\".format(moves[users_move],moves[computer_move]))\n",
    "    #without using rank method ()\n",
    "    \n",
    "    \n",
    "    \n",
    "else:\n",
    "    print(\"NO problem. Run the game when you are ready. Bye Bye\")"
   ]
  },
  {
   "cell_type": "code",
   "execution_count": null,
   "metadata": {},
   "outputs": [],
   "source": [
    "\n",
    "\n",
    "\n"
   ]
  }
 ],
 "metadata": {
  "kernelspec": {
   "display_name": "Python 3",
   "language": "python",
   "name": "python3"
  },
  "language_info": {
   "codemirror_mode": {
    "name": "ipython",
    "version": 3
   },
   "file_extension": ".py",
   "mimetype": "text/x-python",
   "name": "python",
   "nbconvert_exporter": "python",
   "pygments_lexer": "ipython3",
   "version": "3.7.3"
  }
 },
 "nbformat": 4,
 "nbformat_minor": 2
}
